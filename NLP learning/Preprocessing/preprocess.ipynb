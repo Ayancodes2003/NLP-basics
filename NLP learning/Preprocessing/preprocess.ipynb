{
 "cells": [
  {
   "cell_type": "markdown",
   "metadata": {},
   "source": [
    "install nltk\n"
   ]
  },
  {
   "cell_type": "code",
   "execution_count": 1,
   "metadata": {},
   "outputs": [
    {
     "name": "stdout",
     "output_type": "stream",
     "text": [
      "Requirement already satisfied: nltk in c:\\users\\ayanb\\appdata\\local\\packages\\pythonsoftwarefoundation.python.3.11_qbz5n2kfra8p0\\localcache\\local-packages\\python311\\site-packages (3.6.2)\n",
      "Requirement already satisfied: click in c:\\users\\ayanb\\appdata\\local\\packages\\pythonsoftwarefoundation.python.3.11_qbz5n2kfra8p0\\localcache\\local-packages\\python311\\site-packages (from nltk) (8.0.1)\n",
      "Requirement already satisfied: joblib in c:\\users\\ayanb\\appdata\\local\\packages\\pythonsoftwarefoundation.python.3.11_qbz5n2kfra8p0\\localcache\\local-packages\\python311\\site-packages (from nltk) (1.0.1)\n",
      "Requirement already satisfied: regex in c:\\users\\ayanb\\appdata\\local\\packages\\pythonsoftwarefoundation.python.3.11_qbz5n2kfra8p0\\localcache\\local-packages\\python311\\site-packages (from nltk) (2023.12.25)\n",
      "Requirement already satisfied: tqdm in c:\\users\\ayanb\\appdata\\local\\packages\\pythonsoftwarefoundation.python.3.11_qbz5n2kfra8p0\\localcache\\local-packages\\python311\\site-packages (from nltk) (4.66.2)\n",
      "Requirement already satisfied: colorama in c:\\users\\ayanb\\appdata\\local\\packages\\pythonsoftwarefoundation.python.3.11_qbz5n2kfra8p0\\localcache\\local-packages\\python311\\site-packages (from click->nltk) (0.4.4)\n",
      "Note: you may need to restart the kernel to use updated packages.\n"
     ]
    }
   ],
   "source": [
    "pip install nltk"
   ]
  },
  {
   "cell_type": "markdown",
   "metadata": {},
   "source": [
    "take a paragraph"
   ]
  },
  {
   "cell_type": "code",
   "execution_count": 2,
   "metadata": {},
   "outputs": [],
   "source": [
    "paragraph = \"\\nObama was born in Honolulu, Hawaii. He graduated from Columbia University in 1983 with a B.A. in political science and later worked as a community organizer in Chicago. In 1988, Obama enrolled in Harvard Law School, where he was the first black president of the Harvard Law Review. He became a civil rights attorney and an academic, teaching constitutional law at the University of Chicago Law School from 1992 to 2004. He also went into elective politics. Obama represented the 13th district in the Illinois Senate from 1997 until 2004, when he successfully ran for the U.S. Senate. In 2008, after a close primary campaign against Hillary Clinton, he was nominated by the Democratic Party for president and chose Delaware Senator Joe Biden as his running mate. Obama was elected president, defeating Republican Party nominee John McCain in the presidential election and was inaugurated on January 20, 2009. Nine months later he was named the 2009 Nobel Peace Prize laureate, a decision that drew a mixture of praise and criticism.Obama's first-term actions addressed the global financial crisis, and included a major stimulus package, to guide the economy in recovering from the Great Recession, a partial extension of George W. Bush's tax cuts, legislation to reform health care, a major financial regulation reform bill, and the end of a major U.S. military presence in Iraq. Obama also appointed Supreme Court justices Sonia Sotomayor and Elena Kagan, the former being the first Hispanic American on the Supreme Court. He ordered the counterterrorism raid which killed Osama bin Laden and downplayed Bush's counterinsurgency model, expanding air strikes and making extensive use of special forces, while encouraging greater reliance on host-government militaries. Obama also ordered military involvement in Libya in order to implement UN Security Council Resolution 1973, contributing to the overthrow of Muammar Gaddafi.\""
   ]
  },
  {
   "cell_type": "code",
   "execution_count": 3,
   "metadata": {},
   "outputs": [
    {
     "data": {
      "text/plain": [
       "\"\\nObama was born in Honolulu, Hawaii. He graduated from Columbia University in 1983 with a B.A. in political science and later worked as a community organizer in Chicago. In 1988, Obama enrolled in Harvard Law School, where he was the first black president of the Harvard Law Review. He became a civil rights attorney and an academic, teaching constitutional law at the University of Chicago Law School from 1992 to 2004. He also went into elective politics. Obama represented the 13th district in the Illinois Senate from 1997 until 2004, when he successfully ran for the U.S. Senate. In 2008, after a close primary campaign against Hillary Clinton, he was nominated by the Democratic Party for president and chose Delaware Senator Joe Biden as his running mate. Obama was elected president, defeating Republican Party nominee John McCain in the presidential election and was inaugurated on January 20, 2009. Nine months later he was named the 2009 Nobel Peace Prize laureate, a decision that drew a mixture of praise and criticism.Obama's first-term actions addressed the global financial crisis, and included a major stimulus package, to guide the economy in recovering from the Great Recession, a partial extension of George W. Bush's tax cuts, legislation to reform health care, a major financial regulation reform bill, and the end of a major U.S. military presence in Iraq. Obama also appointed Supreme Court justices Sonia Sotomayor and Elena Kagan, the former being the first Hispanic American on the Supreme Court. He ordered the counterterrorism raid which killed Osama bin Laden and downplayed Bush's counterinsurgency model, expanding air strikes and making extensive use of special forces, while encouraging greater reliance on host-government militaries. Obama also ordered military involvement in Libya in order to implement UN Security Council Resolution 1973, contributing to the overthrow of Muammar Gaddafi.\""
      ]
     },
     "execution_count": 3,
     "metadata": {},
     "output_type": "execute_result"
    }
   ],
   "source": [
    "paragraph"
   ]
  },
  {
   "cell_type": "markdown",
   "metadata": {},
   "source": [
    "Import dependencies"
   ]
  },
  {
   "cell_type": "code",
   "execution_count": 4,
   "metadata": {},
   "outputs": [],
   "source": [
    "import nltk\n",
    "from nltk.stem import PorterStemmer\n",
    "from nltk.corpus import stopwords"
   ]
  },
  {
   "cell_type": "markdown",
   "metadata": {},
   "source": [
    "Tokenize the paragraph- converts paragraph->sentences->words\n",
    "we use nltk.sent_tokenize(), it returns a tokenized list of sentences or the text i.e., convert para to sentences \n",
    "Download punkt package using nltk.download('punkt')"
   ]
  },
  {
   "cell_type": "code",
   "execution_count": 5,
   "metadata": {},
   "outputs": [
    {
     "name": "stderr",
     "output_type": "stream",
     "text": [
      "[nltk_data] Downloading package punkt to\n",
      "[nltk_data]     C:\\Users\\ayanb\\AppData\\Roaming\\nltk_data...\n",
      "[nltk_data]   Package punkt is already up-to-date!\n"
     ]
    }
   ],
   "source": [
    "nltk.download('punkt')\n",
    "sentences = nltk.sent_tokenize(paragraph) "
   ]
  },
  {
   "cell_type": "code",
   "execution_count": 6,
   "metadata": {},
   "outputs": [
    {
     "name": "stdout",
     "output_type": "stream",
     "text": [
      "['\\nObama was born in Honolulu, Hawaii.', 'He graduated from Columbia University in 1983 with a B.A.', 'in political science and later worked as a community organizer in Chicago.', 'In 1988, Obama enrolled in Harvard Law School, where he was the first black president of the Harvard Law Review.', 'He became a civil rights attorney and an academic, teaching constitutional law at the University of Chicago Law School from 1992 to 2004.', 'He also went into elective politics.', 'Obama represented the 13th district in the Illinois Senate from 1997 until 2004, when he successfully ran for the U.S. Senate.', 'In 2008, after a close primary campaign against Hillary Clinton, he was nominated by the Democratic Party for president and chose Delaware Senator Joe Biden as his running mate.', 'Obama was elected president, defeating Republican Party nominee John McCain in the presidential election and was inaugurated on January 20, 2009.', \"Nine months later he was named the 2009 Nobel Peace Prize laureate, a decision that drew a mixture of praise and criticism.Obama's first-term actions addressed the global financial crisis, and included a major stimulus package, to guide the economy in recovering from the Great Recession, a partial extension of George W. Bush's tax cuts, legislation to reform health care, a major financial regulation reform bill, and the end of a major U.S. military presence in Iraq.\", 'Obama also appointed Supreme Court justices Sonia Sotomayor and Elena Kagan, the former being the first Hispanic American on the Supreme Court.', \"He ordered the counterterrorism raid which killed Osama bin Laden and downplayed Bush's counterinsurgency model, expanding air strikes and making extensive use of special forces, while encouraging greater reliance on host-government militaries.\", 'Obama also ordered military involvement in Libya in order to implement UN Security Council Resolution 1973, contributing to the overthrow of Muammar Gaddafi.']\n"
     ]
    }
   ],
   "source": [
    "print(sentences)"
   ]
  },
  {
   "cell_type": "markdown",
   "metadata": {},
   "source": [
    "stemmer = converts word to base word like goes=go"
   ]
  },
  {
   "cell_type": "code",
   "execution_count": 7,
   "metadata": {},
   "outputs": [],
   "source": [
    "stemmer = PorterStemmer()"
   ]
  },
  {
   "cell_type": "code",
   "execution_count": 8,
   "metadata": {},
   "outputs": [
    {
     "data": {
      "text/plain": [
       "'run'"
      ]
     },
     "execution_count": 8,
     "metadata": {},
     "output_type": "execute_result"
    }
   ],
   "source": [
    "stemmer.stem('running')"
   ]
  },
  {
   "cell_type": "markdown",
   "metadata": {},
   "source": [
    "lemmatizer = converts word to base word like goes=go, more accurate than stemmer"
   ]
  },
  {
   "cell_type": "code",
   "execution_count": 9,
   "metadata": {},
   "outputs": [],
   "source": [
    "from nltk.stem import WordNetLemmatizer"
   ]
  },
  {
   "cell_type": "code",
   "execution_count": 10,
   "metadata": {},
   "outputs": [
    {
     "data": {
      "text/plain": [
       "'go'"
      ]
     },
     "execution_count": 10,
     "metadata": {},
     "output_type": "execute_result"
    }
   ],
   "source": [
    "from nltk.stem import WordNetLemmatizer\n",
    "\n",
    "lemmatizer = WordNetLemmatizer()\n",
    "lemmatizer.lemmatize('goes')"
   ]
  },
  {
   "cell_type": "markdown",
   "metadata": {},
   "source": [
    "cleaning the characters\n",
    "re sub replace all special characters and numbers with space\n"
   ]
  },
  {
   "cell_type": "code",
   "execution_count": 11,
   "metadata": {},
   "outputs": [],
   "source": [
    "import re\n",
    "corpus = []\n",
    "for i in range(len(sentences)):\n",
    "    review = re.sub('[^a-zA-Z]', ' ', sentences[i]) #other than^a-zA-Z keep blank space  \n",
    "    review = review.lower()\n",
    "    review = review.split()\n",
    "    review = [word for word in review if not word in set(stopwords.words('english'))]\n",
    "    review = ' '.join(review)\n",
    "    corpus.append(review)"
   ]
  },
  {
   "cell_type": "code",
   "execution_count": 12,
   "metadata": {},
   "outputs": [
    {
     "data": {
      "text/plain": [
       "['obama born honolulu hawaii',\n",
       " 'graduated columbia university b',\n",
       " 'political science later worked community organizer chicago',\n",
       " 'obama enrolled harvard law school first black president harvard law review',\n",
       " 'became civil rights attorney academic teaching constitutional law university chicago law school',\n",
       " 'also went elective politics',\n",
       " 'obama represented th district illinois senate successfully ran u senate',\n",
       " 'close primary campaign hillary clinton nominated democratic party president chose delaware senator joe biden running mate',\n",
       " 'obama elected president defeating republican party nominee john mccain presidential election inaugurated january',\n",
       " 'nine months later named nobel peace prize laureate decision drew mixture praise criticism obama first term actions addressed global financial crisis included major stimulus package guide economy recovering great recession partial extension george w bush tax cuts legislation reform health care major financial regulation reform bill end major u military presence iraq',\n",
       " 'obama also appointed supreme court justices sonia sotomayor elena kagan former first hispanic american supreme court',\n",
       " 'ordered counterterrorism raid killed osama bin laden downplayed bush counterinsurgency model expanding air strikes making extensive use special forces encouraging greater reliance host government militaries',\n",
       " 'obama also ordered military involvement libya order implement un security council resolution contributing overthrow muammar gaddafi']"
      ]
     },
     "execution_count": 12,
     "metadata": {},
     "output_type": "execute_result"
    }
   ],
   "source": [
    "corpus"
   ]
  },
  {
   "cell_type": "markdown",
   "metadata": {},
   "source": [
    "stemming"
   ]
  },
  {
   "cell_type": "code",
   "execution_count": 13,
   "metadata": {},
   "outputs": [
    {
     "name": "stdout",
     "output_type": "stream",
     "text": [
      "obama\n",
      "born\n",
      "honolulu\n",
      "hawaii\n",
      "graduat\n",
      "columbia\n",
      "univers\n",
      "b\n",
      "polit\n",
      "scienc\n",
      "later\n",
      "work\n",
      "commun\n",
      "organ\n",
      "chicago\n",
      "obama\n",
      "enrol\n",
      "harvard\n",
      "law\n",
      "school\n",
      "first\n",
      "black\n",
      "presid\n",
      "harvard\n",
      "law\n",
      "review\n",
      "becam\n",
      "civil\n",
      "right\n",
      "attorney\n",
      "academ\n",
      "teach\n",
      "constitut\n",
      "law\n",
      "univers\n",
      "chicago\n",
      "law\n",
      "school\n",
      "also\n",
      "went\n",
      "elect\n",
      "polit\n",
      "obama\n",
      "repres\n",
      "th\n",
      "district\n",
      "illinoi\n",
      "senat\n",
      "success\n",
      "ran\n",
      "u\n",
      "senat\n",
      "close\n",
      "primari\n",
      "campaign\n",
      "hillari\n",
      "clinton\n",
      "nomin\n",
      "democrat\n",
      "parti\n",
      "presid\n",
      "chose\n",
      "delawar\n",
      "senat\n",
      "joe\n",
      "biden\n",
      "run\n",
      "mate\n",
      "obama\n",
      "elect\n",
      "presid\n",
      "defeat\n",
      "republican\n",
      "parti\n",
      "nomine\n",
      "john\n",
      "mccain\n",
      "presidenti\n",
      "elect\n",
      "inaugur\n",
      "januari\n",
      "nine\n",
      "month\n",
      "later\n",
      "name\n",
      "nobel\n",
      "peac\n",
      "prize\n",
      "laureat\n",
      "decis\n",
      "drew\n",
      "mixtur\n",
      "prais\n",
      "critic\n",
      "obama\n",
      "first\n",
      "term\n",
      "action\n",
      "address\n",
      "global\n",
      "financi\n",
      "crisi\n",
      "includ\n",
      "major\n",
      "stimulu\n",
      "packag\n",
      "guid\n",
      "economi\n",
      "recov\n",
      "great\n",
      "recess\n",
      "partial\n",
      "extens\n",
      "georg\n",
      "w\n",
      "bush\n",
      "tax\n",
      "cut\n",
      "legisl\n",
      "reform\n",
      "health\n",
      "care\n",
      "major\n",
      "financi\n",
      "regul\n",
      "reform\n",
      "bill\n",
      "end\n",
      "major\n",
      "u\n",
      "militari\n",
      "presenc\n",
      "iraq\n",
      "obama\n",
      "also\n",
      "appoint\n",
      "suprem\n",
      "court\n",
      "justic\n",
      "sonia\n",
      "sotomayor\n",
      "elena\n",
      "kagan\n",
      "former\n",
      "first\n",
      "hispan\n",
      "american\n",
      "suprem\n",
      "court\n",
      "order\n",
      "counterterror\n",
      "raid\n",
      "kill\n",
      "osama\n",
      "bin\n",
      "laden\n",
      "downplay\n",
      "bush\n",
      "counterinsurg\n",
      "model\n",
      "expand\n",
      "air\n",
      "strike\n",
      "make\n",
      "extens\n",
      "use\n",
      "special\n",
      "forc\n",
      "encourag\n",
      "greater\n",
      "relianc\n",
      "host\n",
      "govern\n",
      "militari\n",
      "obama\n",
      "also\n",
      "order\n",
      "militari\n",
      "involv\n",
      "libya\n",
      "order\n",
      "implement\n",
      "un\n",
      "secur\n",
      "council\n",
      "resolut\n",
      "contribut\n",
      "overthrow\n",
      "muammar\n",
      "gaddafi\n"
     ]
    }
   ],
   "source": [
    "for i in corpus:\n",
    "    words = nltk.word_tokenize(i)\n",
    "    for word in words:\n",
    "        if word not in set(stopwords.words('english')):\n",
    "            print(stemmer.stem(word))"
   ]
  },
  {
   "cell_type": "markdown",
   "metadata": {},
   "source": [
    "For Bag of words we will use CountVectorizer"
   ]
  },
  {
   "cell_type": "code",
   "execution_count": 14,
   "metadata": {},
   "outputs": [],
   "source": [
    "from sklearn.feature_extraction.text import CountVectorizer\n",
    "cv = CountVectorizer(binary=True)"
   ]
  },
  {
   "cell_type": "code",
   "execution_count": 15,
   "metadata": {},
   "outputs": [],
   "source": [
    "X=cv.fit_transform(corpus)"
   ]
  },
  {
   "cell_type": "code",
   "execution_count": 16,
   "metadata": {},
   "outputs": [
    {
     "data": {
      "text/plain": [
       "{'obama': 103,\n",
       " 'born': 13,\n",
       " 'honolulu': 68,\n",
       " 'hawaii': 64,\n",
       " 'graduated': 59,\n",
       " 'columbia': 22,\n",
       " 'university': 151,\n",
       " 'political': 113,\n",
       " 'science': 135,\n",
       " 'later': 83,\n",
       " 'worked': 154,\n",
       " 'community': 23,\n",
       " 'organizer': 106,\n",
       " 'chicago': 17,\n",
       " 'enrolled': 47,\n",
       " 'harvard': 63,\n",
       " 'law': 85,\n",
       " 'school': 134,\n",
       " 'first': 52,\n",
       " 'black': 12,\n",
       " 'president': 117,\n",
       " 'review': 131,\n",
       " 'became': 8,\n",
       " 'civil': 19,\n",
       " 'rights': 132,\n",
       " 'attorney': 7,\n",
       " 'academic': 0,\n",
       " 'teaching': 147,\n",
       " 'constitutional': 24,\n",
       " 'also': 4,\n",
       " 'went': 153,\n",
       " 'elective': 43,\n",
       " 'politics': 114,\n",
       " 'represented': 128,\n",
       " 'th': 149,\n",
       " 'district': 37,\n",
       " 'illinois': 70,\n",
       " 'senate': 137,\n",
       " 'successfully': 144,\n",
       " 'ran': 122,\n",
       " 'close': 21,\n",
       " 'primary': 119,\n",
       " 'campaign': 15,\n",
       " 'hillary': 66,\n",
       " 'clinton': 20,\n",
       " 'nominated': 101,\n",
       " 'democratic': 36,\n",
       " 'party': 111,\n",
       " 'chose': 18,\n",
       " 'delaware': 35,\n",
       " 'senator': 138,\n",
       " 'joe': 77,\n",
       " 'biden': 9,\n",
       " 'running': 133,\n",
       " 'mate': 90,\n",
       " 'elected': 41,\n",
       " 'defeating': 34,\n",
       " 'republican': 129,\n",
       " 'nominee': 102,\n",
       " 'john': 78,\n",
       " 'mccain': 91,\n",
       " 'presidential': 118,\n",
       " 'election': 42,\n",
       " 'inaugurated': 72,\n",
       " 'january': 76,\n",
       " 'nine': 99,\n",
       " 'months': 96,\n",
       " 'named': 98,\n",
       " 'nobel': 100,\n",
       " 'peace': 112,\n",
       " 'prize': 120,\n",
       " 'laureate': 84,\n",
       " 'decision': 33,\n",
       " 'drew': 39,\n",
       " 'mixture': 94,\n",
       " 'praise': 115,\n",
       " 'criticism': 31,\n",
       " 'term': 148,\n",
       " 'actions': 1,\n",
       " 'addressed': 2,\n",
       " 'global': 57,\n",
       " 'financial': 51,\n",
       " 'crisis': 30,\n",
       " 'included': 73,\n",
       " 'major': 88,\n",
       " 'stimulus': 142,\n",
       " 'package': 109,\n",
       " 'guide': 62,\n",
       " 'economy': 40,\n",
       " 'recovering': 124,\n",
       " 'great': 60,\n",
       " 'recession': 123,\n",
       " 'partial': 110,\n",
       " 'extension': 49,\n",
       " 'george': 56,\n",
       " 'bush': 14,\n",
       " 'tax': 146,\n",
       " 'cuts': 32,\n",
       " 'legislation': 86,\n",
       " 'reform': 125,\n",
       " 'health': 65,\n",
       " 'care': 16,\n",
       " 'regulation': 126,\n",
       " 'bill': 10,\n",
       " 'end': 46,\n",
       " 'military': 93,\n",
       " 'presence': 116,\n",
       " 'iraq': 75,\n",
       " 'appointed': 6,\n",
       " 'supreme': 145,\n",
       " 'court': 29,\n",
       " 'justices': 79,\n",
       " 'sonia': 139,\n",
       " 'sotomayor': 140,\n",
       " 'elena': 44,\n",
       " 'kagan': 80,\n",
       " 'former': 54,\n",
       " 'hispanic': 67,\n",
       " 'american': 5,\n",
       " 'ordered': 105,\n",
       " 'counterterrorism': 28,\n",
       " 'raid': 121,\n",
       " 'killed': 81,\n",
       " 'osama': 107,\n",
       " 'bin': 11,\n",
       " 'laden': 82,\n",
       " 'downplayed': 38,\n",
       " 'counterinsurgency': 27,\n",
       " 'model': 95,\n",
       " 'expanding': 48,\n",
       " 'air': 3,\n",
       " 'strikes': 143,\n",
       " 'making': 89,\n",
       " 'extensive': 50,\n",
       " 'use': 152,\n",
       " 'special': 141,\n",
       " 'forces': 53,\n",
       " 'encouraging': 45,\n",
       " 'greater': 61,\n",
       " 'reliance': 127,\n",
       " 'host': 69,\n",
       " 'government': 58,\n",
       " 'militaries': 92,\n",
       " 'involvement': 74,\n",
       " 'libya': 87,\n",
       " 'order': 104,\n",
       " 'implement': 71,\n",
       " 'un': 150,\n",
       " 'security': 136,\n",
       " 'council': 26,\n",
       " 'resolution': 130,\n",
       " 'contributing': 25,\n",
       " 'overthrow': 108,\n",
       " 'muammar': 97,\n",
       " 'gaddafi': 55}"
      ]
     },
     "execution_count": 16,
     "metadata": {},
     "output_type": "execute_result"
    }
   ],
   "source": [
    "cv.vocabulary_"
   ]
  },
  {
   "cell_type": "code",
   "execution_count": 17,
   "metadata": {},
   "outputs": [
    {
     "data": {
      "text/plain": [
       "'obama born honolulu hawaii'"
      ]
     },
     "execution_count": 17,
     "metadata": {},
     "output_type": "execute_result"
    }
   ],
   "source": [
    "corpus[0]"
   ]
  },
  {
   "cell_type": "code",
   "execution_count": 18,
   "metadata": {},
   "outputs": [
    {
     "data": {
      "text/plain": [
       "array([[0, 0, 0, 0, 0, 0, 0, 0, 0, 0, 0, 0, 0, 1, 0, 0, 0, 0, 0, 0, 0, 0,\n",
       "        0, 0, 0, 0, 0, 0, 0, 0, 0, 0, 0, 0, 0, 0, 0, 0, 0, 0, 0, 0, 0, 0,\n",
       "        0, 0, 0, 0, 0, 0, 0, 0, 0, 0, 0, 0, 0, 0, 0, 0, 0, 0, 0, 0, 1, 0,\n",
       "        0, 0, 1, 0, 0, 0, 0, 0, 0, 0, 0, 0, 0, 0, 0, 0, 0, 0, 0, 0, 0, 0,\n",
       "        0, 0, 0, 0, 0, 0, 0, 0, 0, 0, 0, 0, 0, 0, 0, 1, 0, 0, 0, 0, 0, 0,\n",
       "        0, 0, 0, 0, 0, 0, 0, 0, 0, 0, 0, 0, 0, 0, 0, 0, 0, 0, 0, 0, 0, 0,\n",
       "        0, 0, 0, 0, 0, 0, 0, 0, 0, 0, 0, 0, 0, 0, 0, 0, 0, 0, 0, 0, 0, 0,\n",
       "        0]], dtype=int64)"
      ]
     },
     "execution_count": 18,
     "metadata": {},
     "output_type": "execute_result"
    }
   ],
   "source": [
    "X[0].toarray()"
   ]
  },
  {
   "cell_type": "code",
   "execution_count": null,
   "metadata": {},
   "outputs": [],
   "source": []
  }
 ],
 "metadata": {
  "kernelspec": {
   "display_name": "Python 3",
   "language": "python",
   "name": "python3"
  },
  "language_info": {
   "codemirror_mode": {
    "name": "ipython",
    "version": 3
   },
   "file_extension": ".py",
   "mimetype": "text/x-python",
   "name": "python",
   "nbconvert_exporter": "python",
   "pygments_lexer": "ipython3",
   "version": "3.11.8"
  }
 },
 "nbformat": 4,
 "nbformat_minor": 2
}
