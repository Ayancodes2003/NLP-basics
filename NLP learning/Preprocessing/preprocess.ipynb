{
 "cells": [
  {
   "cell_type": "markdown",
   "metadata": {},
   "source": [
    "install nltk\n"
   ]
  },
  {
   "cell_type": "code",
   "execution_count": 41,
   "metadata": {},
   "outputs": [
    {
     "name": "stdout",
     "output_type": "stream",
     "text": [
      "Requirement already satisfied: nltk in c:\\users\\ayanb\\appdata\\local\\packages\\pythonsoftwarefoundation.python.3.11_qbz5n2kfra8p0\\localcache\\local-packages\\python311\\site-packages (3.6.2)\n",
      "Requirement already satisfied: click in c:\\users\\ayanb\\appdata\\local\\packages\\pythonsoftwarefoundation.python.3.11_qbz5n2kfra8p0\\localcache\\local-packages\\python311\\site-packages (from nltk) (8.0.1)\n",
      "Requirement already satisfied: joblib in c:\\users\\ayanb\\appdata\\local\\packages\\pythonsoftwarefoundation.python.3.11_qbz5n2kfra8p0\\localcache\\local-packages\\python311\\site-packages (from nltk) (1.0.1)\n",
      "Requirement already satisfied: regex in c:\\users\\ayanb\\appdata\\local\\packages\\pythonsoftwarefoundation.python.3.11_qbz5n2kfra8p0\\localcache\\local-packages\\python311\\site-packages (from nltk) (2023.12.25)\n",
      "Requirement already satisfied: tqdm in c:\\users\\ayanb\\appdata\\local\\packages\\pythonsoftwarefoundation.python.3.11_qbz5n2kfra8p0\\localcache\\local-packages\\python311\\site-packages (from nltk) (4.66.2)\n",
      "Requirement already satisfied: colorama in c:\\users\\ayanb\\appdata\\local\\packages\\pythonsoftwarefoundation.python.3.11_qbz5n2kfra8p0\\localcache\\local-packages\\python311\\site-packages (from click->nltk) (0.4.4)\n",
      "Note: you may need to restart the kernel to use updated packages.\n"
     ]
    }
   ],
   "source": [
    "pip install nltk"
   ]
  },
  {
   "cell_type": "markdown",
   "metadata": {},
   "source": [
    "take a paragraph"
   ]
  },
  {
   "cell_type": "code",
   "execution_count": 42,
   "metadata": {},
   "outputs": [],
   "source": [
    "paragraph = \"\\nObama was born in Honolulu, Hawaii. He graduated from Columbia University in 1983 with a B.A. in political science and later worked as a community organizer in Chicago. In 1988, Obama enrolled in Harvard Law School, where he was the first black president of the Harvard Law Review. He became a civil rights attorney and an academic, teaching constitutional law at the University of Chicago Law School from 1992 to 2004. He also went into elective politics. Obama represented the 13th district in the Illinois Senate from 1997 until 2004, when he successfully ran for the U.S. Senate. In 2008, after a close primary campaign against Hillary Clinton, he was nominated by the Democratic Party for president and chose Delaware Senator Joe Biden as his running mate. Obama was elected president, defeating Republican Party nominee John McCain in the presidential election and was inaugurated on January 20, 2009. Nine months later he was named the 2009 Nobel Peace Prize laureate, a decision that drew a mixture of praise and criticism.Obama's first-term actions addressed the global financial crisis, and included a major stimulus package, to guide the economy in recovering from the Great Recession, a partial extension of George W. Bush's tax cuts, legislation to reform health care, a major financial regulation reform bill, and the end of a major U.S. military presence in Iraq. Obama also appointed Supreme Court justices Sonia Sotomayor and Elena Kagan, the former being the first Hispanic American on the Supreme Court. He ordered the counterterrorism raid which killed Osama bin Laden and downplayed Bush's counterinsurgency model, expanding air strikes and making extensive use of special forces, while encouraging greater reliance on host-government militaries. Obama also ordered military involvement in Libya in order to implement UN Security Council Resolution 1973, contributing to the overthrow of Muammar Gaddafi.\""
   ]
  },
  {
   "cell_type": "code",
   "execution_count": 43,
   "metadata": {},
   "outputs": [
    {
     "data": {
      "text/plain": [
       "\"\\nObama was born in Honolulu, Hawaii. He graduated from Columbia University in 1983 with a B.A. in political science and later worked as a community organizer in Chicago. In 1988, Obama enrolled in Harvard Law School, where he was the first black president of the Harvard Law Review. He became a civil rights attorney and an academic, teaching constitutional law at the University of Chicago Law School from 1992 to 2004. He also went into elective politics. Obama represented the 13th district in the Illinois Senate from 1997 until 2004, when he successfully ran for the U.S. Senate. In 2008, after a close primary campaign against Hillary Clinton, he was nominated by the Democratic Party for president and chose Delaware Senator Joe Biden as his running mate. Obama was elected president, defeating Republican Party nominee John McCain in the presidential election and was inaugurated on January 20, 2009. Nine months later he was named the 2009 Nobel Peace Prize laureate, a decision that drew a mixture of praise and criticism.Obama's first-term actions addressed the global financial crisis, and included a major stimulus package, to guide the economy in recovering from the Great Recession, a partial extension of George W. Bush's tax cuts, legislation to reform health care, a major financial regulation reform bill, and the end of a major U.S. military presence in Iraq. Obama also appointed Supreme Court justices Sonia Sotomayor and Elena Kagan, the former being the first Hispanic American on the Supreme Court. He ordered the counterterrorism raid which killed Osama bin Laden and downplayed Bush's counterinsurgency model, expanding air strikes and making extensive use of special forces, while encouraging greater reliance on host-government militaries. Obama also ordered military involvement in Libya in order to implement UN Security Council Resolution 1973, contributing to the overthrow of Muammar Gaddafi.\""
      ]
     },
     "execution_count": 43,
     "metadata": {},
     "output_type": "execute_result"
    }
   ],
   "source": [
    "paragraph"
   ]
  },
  {
   "cell_type": "markdown",
   "metadata": {},
   "source": [
    "Import dependencies"
   ]
  },
  {
   "cell_type": "code",
   "execution_count": 44,
   "metadata": {},
   "outputs": [],
   "source": [
    "import nltk\n",
    "from nltk.stem import PorterStemmer\n",
    "from nltk.corpus import stopwords"
   ]
  },
  {
   "cell_type": "markdown",
   "metadata": {},
   "source": [
    "Tokenize the paragraph- converts paragraph->sentences->words\n",
    "we use nltk.sent_tokenize(), it returns a tokenized list of sentences or the text i.e., convert para to sentences \n",
    "Download punkt package using nltk.download('punkt')"
   ]
  },
  {
   "cell_type": "code",
   "execution_count": 45,
   "metadata": {},
   "outputs": [
    {
     "name": "stderr",
     "output_type": "stream",
     "text": [
      "[nltk_data] Downloading package punkt to\n",
      "[nltk_data]     C:\\Users\\ayanb\\AppData\\Roaming\\nltk_data...\n",
      "[nltk_data]   Package punkt is already up-to-date!\n"
     ]
    }
   ],
   "source": [
    "nltk.download('punkt')\n",
    "sentences = nltk.sent_tokenize(paragraph) "
   ]
  },
  {
   "cell_type": "code",
   "execution_count": 46,
   "metadata": {},
   "outputs": [
    {
     "name": "stdout",
     "output_type": "stream",
     "text": [
      "['\\nObama was born in Honolulu, Hawaii.', 'He graduated from Columbia University in 1983 with a B.A.', 'in political science and later worked as a community organizer in Chicago.', 'In 1988, Obama enrolled in Harvard Law School, where he was the first black president of the Harvard Law Review.', 'He became a civil rights attorney and an academic, teaching constitutional law at the University of Chicago Law School from 1992 to 2004.', 'He also went into elective politics.', 'Obama represented the 13th district in the Illinois Senate from 1997 until 2004, when he successfully ran for the U.S. Senate.', 'In 2008, after a close primary campaign against Hillary Clinton, he was nominated by the Democratic Party for president and chose Delaware Senator Joe Biden as his running mate.', 'Obama was elected president, defeating Republican Party nominee John McCain in the presidential election and was inaugurated on January 20, 2009.', \"Nine months later he was named the 2009 Nobel Peace Prize laureate, a decision that drew a mixture of praise and criticism.Obama's first-term actions addressed the global financial crisis, and included a major stimulus package, to guide the economy in recovering from the Great Recession, a partial extension of George W. Bush's tax cuts, legislation to reform health care, a major financial regulation reform bill, and the end of a major U.S. military presence in Iraq.\", 'Obama also appointed Supreme Court justices Sonia Sotomayor and Elena Kagan, the former being the first Hispanic American on the Supreme Court.', \"He ordered the counterterrorism raid which killed Osama bin Laden and downplayed Bush's counterinsurgency model, expanding air strikes and making extensive use of special forces, while encouraging greater reliance on host-government militaries.\", 'Obama also ordered military involvement in Libya in order to implement UN Security Council Resolution 1973, contributing to the overthrow of Muammar Gaddafi.']\n"
     ]
    }
   ],
   "source": [
    "print(sentences)"
   ]
  },
  {
   "cell_type": "markdown",
   "metadata": {},
   "source": [
    "stemmer = converts word to base word like goes=go"
   ]
  },
  {
   "cell_type": "code",
   "execution_count": 47,
   "metadata": {},
   "outputs": [],
   "source": [
    "stemmer = PorterStemmer()"
   ]
  },
  {
   "cell_type": "code",
   "execution_count": 48,
   "metadata": {},
   "outputs": [
    {
     "data": {
      "text/plain": [
       "'run'"
      ]
     },
     "execution_count": 48,
     "metadata": {},
     "output_type": "execute_result"
    }
   ],
   "source": [
    "stemmer.stem('running')"
   ]
  },
  {
   "cell_type": "markdown",
   "metadata": {},
   "source": [
    "lemmatizer = converts word to base word like goes=go, more accurate than stemmer"
   ]
  },
  {
   "cell_type": "code",
   "execution_count": 49,
   "metadata": {},
   "outputs": [],
   "source": [
    "from nltk.stem import WordNetLemmatizer"
   ]
  },
  {
   "cell_type": "code",
   "execution_count": 50,
   "metadata": {},
   "outputs": [
    {
     "data": {
      "text/plain": [
       "'go'"
      ]
     },
     "execution_count": 50,
     "metadata": {},
     "output_type": "execute_result"
    }
   ],
   "source": [
    "from nltk.stem import WordNetLemmatizer\n",
    "\n",
    "lemmatizer = WordNetLemmatizer()\n",
    "lemmatizer.lemmatize('goes')"
   ]
  },
  {
   "cell_type": "markdown",
   "metadata": {},
   "source": [
    "cleaning the characters\n",
    "re sub replace all special characters and numbers with space\n"
   ]
  },
  {
   "cell_type": "code",
   "execution_count": 51,
   "metadata": {},
   "outputs": [],
   "source": [
    "import re\n",
    "corpus = []\n",
    "for i in range(len(sentences)):\n",
    "    review = re.sub('[^a-zA-Z]', ' ', sentences[i]) #other than^a-zA-Z keep blank space  \n",
    "    review = review.lower()\n",
    "    review = review.split() #we get each and every sentence\n",
    "    review = [word for word in review if not word in set(stopwords.words('english'))]\n",
    "    review = ' '.join(review)\n",
    "    corpus.append(review)"
   ]
  },
  {
   "cell_type": "code",
   "execution_count": 52,
   "metadata": {},
   "outputs": [
    {
     "data": {
      "text/plain": [
       "['obama born honolulu hawaii',\n",
       " 'graduated columbia university b',\n",
       " 'political science later worked community organizer chicago',\n",
       " 'obama enrolled harvard law school first black president harvard law review',\n",
       " 'became civil rights attorney academic teaching constitutional law university chicago law school',\n",
       " 'also went elective politics',\n",
       " 'obama represented th district illinois senate successfully ran u senate',\n",
       " 'close primary campaign hillary clinton nominated democratic party president chose delaware senator joe biden running mate',\n",
       " 'obama elected president defeating republican party nominee john mccain presidential election inaugurated january',\n",
       " 'nine months later named nobel peace prize laureate decision drew mixture praise criticism obama first term actions addressed global financial crisis included major stimulus package guide economy recovering great recession partial extension george w bush tax cuts legislation reform health care major financial regulation reform bill end major u military presence iraq',\n",
       " 'obama also appointed supreme court justices sonia sotomayor elena kagan former first hispanic american supreme court',\n",
       " 'ordered counterterrorism raid killed osama bin laden downplayed bush counterinsurgency model expanding air strikes making extensive use special forces encouraging greater reliance host government militaries',\n",
       " 'obama also ordered military involvement libya order implement un security council resolution contributing overthrow muammar gaddafi']"
      ]
     },
     "execution_count": 52,
     "metadata": {},
     "output_type": "execute_result"
    }
   ],
   "source": [
    "corpus"
   ]
  },
  {
   "cell_type": "markdown",
   "metadata": {},
   "source": [
    "stemming"
   ]
  },
  {
   "cell_type": "code",
   "execution_count": 53,
   "metadata": {},
   "outputs": [
    {
     "name": "stdout",
     "output_type": "stream",
     "text": [
      "obama\n",
      "born\n",
      "honolulu\n",
      "hawaii\n",
      "graduat\n",
      "columbia\n",
      "univers\n",
      "b\n",
      "polit\n",
      "scienc\n",
      "later\n",
      "work\n",
      "commun\n",
      "organ\n",
      "chicago\n",
      "obama\n",
      "enrol\n",
      "harvard\n",
      "law\n",
      "school\n",
      "first\n",
      "black\n",
      "presid\n",
      "harvard\n",
      "law\n",
      "review\n",
      "becam\n",
      "civil\n",
      "right\n",
      "attorney\n",
      "academ\n",
      "teach\n",
      "constitut\n",
      "law\n",
      "univers\n",
      "chicago\n",
      "law\n",
      "school\n",
      "also\n",
      "went\n",
      "elect\n",
      "polit\n",
      "obama\n",
      "repres\n",
      "th\n",
      "district\n",
      "illinoi\n",
      "senat\n",
      "success\n",
      "ran\n",
      "u\n",
      "senat\n",
      "close\n",
      "primari\n",
      "campaign\n",
      "hillari\n",
      "clinton\n",
      "nomin\n",
      "democrat\n",
      "parti\n",
      "presid\n",
      "chose\n",
      "delawar\n",
      "senat\n",
      "joe\n",
      "biden\n",
      "run\n",
      "mate\n",
      "obama\n",
      "elect\n",
      "presid\n",
      "defeat\n",
      "republican\n",
      "parti\n",
      "nomine\n",
      "john\n",
      "mccain\n",
      "presidenti\n",
      "elect\n",
      "inaugur\n",
      "januari\n",
      "nine\n",
      "month\n",
      "later\n",
      "name\n",
      "nobel\n",
      "peac\n",
      "prize\n",
      "laureat\n",
      "decis\n",
      "drew\n",
      "mixtur\n",
      "prais\n",
      "critic\n",
      "obama\n",
      "first\n",
      "term\n",
      "action\n",
      "address\n",
      "global\n",
      "financi\n",
      "crisi\n",
      "includ\n",
      "major\n",
      "stimulu\n",
      "packag\n",
      "guid\n",
      "economi\n",
      "recov\n",
      "great\n",
      "recess\n",
      "partial\n",
      "extens\n",
      "georg\n",
      "w\n",
      "bush\n",
      "tax\n",
      "cut\n",
      "legisl\n",
      "reform\n",
      "health\n",
      "care\n",
      "major\n",
      "financi\n",
      "regul\n",
      "reform\n",
      "bill\n",
      "end\n",
      "major\n",
      "u\n",
      "militari\n",
      "presenc\n",
      "iraq\n",
      "obama\n",
      "also\n",
      "appoint\n",
      "suprem\n",
      "court\n",
      "justic\n",
      "sonia\n",
      "sotomayor\n",
      "elena\n",
      "kagan\n",
      "former\n",
      "first\n",
      "hispan\n",
      "american\n",
      "suprem\n",
      "court\n",
      "order\n",
      "counterterror\n",
      "raid\n",
      "kill\n",
      "osama\n",
      "bin\n",
      "laden\n",
      "downplay\n",
      "bush\n",
      "counterinsurg\n",
      "model\n",
      "expand\n",
      "air\n",
      "strike\n",
      "make\n",
      "extens\n",
      "use\n",
      "special\n",
      "forc\n",
      "encourag\n",
      "greater\n",
      "relianc\n",
      "host\n",
      "govern\n",
      "militari\n",
      "obama\n",
      "also\n",
      "order\n",
      "militari\n",
      "involv\n",
      "libya\n",
      "order\n",
      "implement\n",
      "un\n",
      "secur\n",
      "council\n",
      "resolut\n",
      "contribut\n",
      "overthrow\n",
      "muammar\n",
      "gaddafi\n"
     ]
    }
   ],
   "source": [
    "for i in corpus:\n",
    "    words = nltk.word_tokenize(i) #word tokenize convert sentence into words\n",
    "    for word in words:\n",
    "        if word not in set(stopwords.words('english')):\n",
    "            print(stemmer.stem(word))"
   ]
  },
  {
   "cell_type": "code",
   "execution_count": 54,
   "metadata": {},
   "outputs": [
    {
     "name": "stdout",
     "output_type": "stream",
     "text": [
      "obama\n",
      "born\n",
      "honolulu\n",
      "hawaii\n",
      "graduated\n",
      "columbia\n",
      "university\n",
      "b\n",
      "political\n",
      "science\n",
      "later\n",
      "worked\n",
      "community\n",
      "organizer\n",
      "chicago\n",
      "obama\n",
      "enrolled\n",
      "harvard\n",
      "law\n",
      "school\n",
      "first\n",
      "black\n",
      "president\n",
      "harvard\n",
      "law\n",
      "review\n",
      "became\n",
      "civil\n",
      "right\n",
      "attorney\n",
      "academic\n",
      "teaching\n",
      "constitutional\n",
      "law\n",
      "university\n",
      "chicago\n",
      "law\n",
      "school\n",
      "also\n",
      "went\n",
      "elective\n",
      "politics\n",
      "obama\n",
      "represented\n",
      "th\n",
      "district\n",
      "illinois\n",
      "senate\n",
      "successfully\n",
      "ran\n",
      "u\n",
      "senate\n",
      "close\n",
      "primary\n",
      "campaign\n",
      "hillary\n",
      "clinton\n",
      "nominated\n",
      "democratic\n",
      "party\n",
      "president\n",
      "chose\n",
      "delaware\n",
      "senator\n",
      "joe\n",
      "biden\n",
      "running\n",
      "mate\n",
      "obama\n",
      "elected\n",
      "president\n",
      "defeating\n",
      "republican\n",
      "party\n",
      "nominee\n",
      "john\n",
      "mccain\n",
      "presidential\n",
      "election\n",
      "inaugurated\n",
      "january\n",
      "nine\n",
      "month\n",
      "later\n",
      "named\n",
      "nobel\n",
      "peace\n",
      "prize\n",
      "laureate\n",
      "decision\n",
      "drew\n",
      "mixture\n",
      "praise\n",
      "criticism\n",
      "obama\n",
      "first\n",
      "term\n",
      "action\n",
      "addressed\n",
      "global\n",
      "financial\n",
      "crisis\n",
      "included\n",
      "major\n",
      "stimulus\n",
      "package\n",
      "guide\n",
      "economy\n",
      "recovering\n",
      "great\n",
      "recession\n",
      "partial\n",
      "extension\n",
      "george\n",
      "w\n",
      "bush\n",
      "tax\n",
      "cut\n",
      "legislation\n",
      "reform\n",
      "health\n",
      "care\n",
      "major\n",
      "financial\n",
      "regulation\n",
      "reform\n",
      "bill\n",
      "end\n",
      "major\n",
      "u\n",
      "military\n",
      "presence\n",
      "iraq\n",
      "obama\n",
      "also\n",
      "appointed\n",
      "supreme\n",
      "court\n",
      "justice\n",
      "sonia\n",
      "sotomayor\n",
      "elena\n",
      "kagan\n",
      "former\n",
      "first\n",
      "hispanic\n",
      "american\n",
      "supreme\n",
      "court\n",
      "ordered\n",
      "counterterrorism\n",
      "raid\n",
      "killed\n",
      "osama\n",
      "bin\n",
      "laden\n",
      "downplayed\n",
      "bush\n",
      "counterinsurgency\n",
      "model\n",
      "expanding\n",
      "air\n",
      "strike\n",
      "making\n",
      "extensive\n",
      "use\n",
      "special\n",
      "force\n",
      "encouraging\n",
      "greater\n",
      "reliance\n",
      "host\n",
      "government\n",
      "military\n",
      "obama\n",
      "also\n",
      "ordered\n",
      "military\n",
      "involvement\n",
      "libya\n",
      "order\n",
      "implement\n",
      "un\n",
      "security\n",
      "council\n",
      "resolution\n",
      "contributing\n",
      "overthrow\n",
      "muammar\n",
      "gaddafi\n"
     ]
    }
   ],
   "source": [
    "#lemmatization \n",
    "for i in corpus:\n",
    "    words = nltk.word_tokenize(i) #word tokenize convert sentence into words\n",
    "    for word in words:\n",
    "        if word not in set(stopwords.words('english')):\n",
    "            print(lemmatizer.lemmatize(word))"
   ]
  },
  {
   "cell_type": "markdown",
   "metadata": {},
   "source": [
    "For Bag of words we will use CountVectorizer"
   ]
  },
  {
   "cell_type": "code",
   "execution_count": 55,
   "metadata": {},
   "outputs": [],
   "source": [
    "from sklearn.feature_extraction.text import CountVectorizer\n",
    "cv = CountVectorizer(binary=True, ngram_range=(1, 2))"
   ]
  },
  {
   "cell_type": "code",
   "execution_count": 56,
   "metadata": {},
   "outputs": [],
   "source": [
    "X=cv.fit_transform(corpus)"
   ]
  },
  {
   "cell_type": "code",
   "execution_count": 57,
   "metadata": {},
   "outputs": [
    {
     "data": {
      "text/plain": [
       "{'obama': 212,\n",
       " 'born': 28,\n",
       " 'honolulu': 140,\n",
       " 'hawaii': 133,\n",
       " 'obama born': 214,\n",
       " 'born honolulu': 29,\n",
       " 'honolulu hawaii': 141,\n",
       " 'graduated': 123,\n",
       " 'columbia': 47,\n",
       " 'university': 316,\n",
       " 'graduated columbia': 124,\n",
       " 'columbia university': 48,\n",
       " 'political': 239,\n",
       " 'science': 284,\n",
       " 'later': 168,\n",
       " 'worked': 322,\n",
       " 'community': 49,\n",
       " 'organizer': 224,\n",
       " 'chicago': 37,\n",
       " 'political science': 240,\n",
       " 'science later': 285,\n",
       " 'later worked': 170,\n",
       " 'worked community': 323,\n",
       " 'community organizer': 50,\n",
       " 'organizer chicago': 225,\n",
       " 'enrolled': 97,\n",
       " 'harvard': 131,\n",
       " 'law': 173,\n",
       " 'school': 282,\n",
       " 'first': 108,\n",
       " 'black': 26,\n",
       " 'president': 246,\n",
       " 'review': 277,\n",
       " 'obama enrolled': 216,\n",
       " 'enrolled harvard': 98,\n",
       " 'harvard law': 132,\n",
       " 'law school': 175,\n",
       " 'school first': 283,\n",
       " 'first black': 109,\n",
       " 'black president': 27,\n",
       " 'president harvard': 249,\n",
       " 'law review': 174,\n",
       " 'became': 18,\n",
       " 'civil': 41,\n",
       " 'rights': 278,\n",
       " 'attorney': 16,\n",
       " 'academic': 0,\n",
       " 'teaching': 308,\n",
       " 'constitutional': 51,\n",
       " 'became civil': 19,\n",
       " 'civil rights': 42,\n",
       " 'rights attorney': 279,\n",
       " 'attorney academic': 17,\n",
       " 'academic teaching': 1,\n",
       " 'teaching constitutional': 309,\n",
       " 'constitutional law': 52,\n",
       " 'law university': 176,\n",
       " 'university chicago': 317,\n",
       " 'chicago law': 38,\n",
       " 'also': 8,\n",
       " 'went': 320,\n",
       " 'elective': 89,\n",
       " 'politics': 241,\n",
       " 'also went': 11,\n",
       " 'went elective': 321,\n",
       " 'elective politics': 90,\n",
       " 'represented': 271,\n",
       " 'th': 312,\n",
       " 'district': 77,\n",
       " 'illinois': 144,\n",
       " 'senate': 288,\n",
       " 'successfully': 302,\n",
       " 'ran': 258,\n",
       " 'obama represented': 218,\n",
       " 'represented th': 272,\n",
       " 'th district': 313,\n",
       " 'district illinois': 78,\n",
       " 'illinois senate': 145,\n",
       " 'senate successfully': 289,\n",
       " 'successfully ran': 303,\n",
       " 'ran senate': 259,\n",
       " 'close': 45,\n",
       " 'primary': 252,\n",
       " 'campaign': 33,\n",
       " 'hillary': 136,\n",
       " 'clinton': 43,\n",
       " 'nominated': 208,\n",
       " 'democratic': 75,\n",
       " 'party': 234,\n",
       " 'chose': 39,\n",
       " 'delaware': 73,\n",
       " 'senator': 290,\n",
       " 'joe': 156,\n",
       " 'biden': 20,\n",
       " 'running': 280,\n",
       " 'mate': 187,\n",
       " 'close primary': 46,\n",
       " 'primary campaign': 253,\n",
       " 'campaign hillary': 34,\n",
       " 'hillary clinton': 137,\n",
       " 'clinton nominated': 44,\n",
       " 'nominated democratic': 209,\n",
       " 'democratic party': 76,\n",
       " 'party president': 236,\n",
       " 'president chose': 247,\n",
       " 'chose delaware': 40,\n",
       " 'delaware senator': 74,\n",
       " 'senator joe': 291,\n",
       " 'joe biden': 157,\n",
       " 'biden running': 21,\n",
       " 'running mate': 281,\n",
       " 'elected': 85,\n",
       " 'defeating': 71,\n",
       " 'republican': 273,\n",
       " 'nominee': 210,\n",
       " 'john': 158,\n",
       " 'mccain': 188,\n",
       " 'presidential': 250,\n",
       " 'election': 87,\n",
       " 'inaugurated': 148,\n",
       " 'january': 155,\n",
       " 'obama elected': 215,\n",
       " 'elected president': 86,\n",
       " 'president defeating': 248,\n",
       " 'defeating republican': 72,\n",
       " 'republican party': 274,\n",
       " 'party nominee': 235,\n",
       " 'nominee john': 211,\n",
       " 'john mccain': 159,\n",
       " 'mccain presidential': 189,\n",
       " 'presidential election': 251,\n",
       " 'election inaugurated': 88,\n",
       " 'inaugurated january': 149,\n",
       " 'nine': 204,\n",
       " 'months': 198,\n",
       " 'named': 202,\n",
       " 'nobel': 206,\n",
       " 'peace': 237,\n",
       " 'prize': 254,\n",
       " 'laureate': 171,\n",
       " 'decision': 69,\n",
       " 'drew': 81,\n",
       " 'mixture': 194,\n",
       " 'praise': 242,\n",
       " 'criticism': 65,\n",
       " 'term': 310,\n",
       " 'actions': 2,\n",
       " 'addressed': 4,\n",
       " 'global': 119,\n",
       " 'financial': 105,\n",
       " 'crisis': 63,\n",
       " 'included': 150,\n",
       " 'major': 181,\n",
       " 'stimulus': 298,\n",
       " 'package': 230,\n",
       " 'guide': 129,\n",
       " 'economy': 83,\n",
       " 'recovering': 262,\n",
       " 'great': 125,\n",
       " 'recession': 260,\n",
       " 'partial': 232,\n",
       " 'extension': 101,\n",
       " 'george': 117,\n",
       " 'bush': 30,\n",
       " 'tax': 306,\n",
       " 'cuts': 67,\n",
       " 'legislation': 177,\n",
       " 'reform': 264,\n",
       " 'health': 134,\n",
       " 'care': 35,\n",
       " 'regulation': 267,\n",
       " 'bill': 22,\n",
       " 'end': 95,\n",
       " 'military': 191,\n",
       " 'presence': 244,\n",
       " 'iraq': 154,\n",
       " 'nine months': 205,\n",
       " 'months later': 199,\n",
       " 'later named': 169,\n",
       " 'named nobel': 203,\n",
       " 'nobel peace': 207,\n",
       " 'peace prize': 238,\n",
       " 'prize laureate': 255,\n",
       " 'laureate decision': 172,\n",
       " 'decision drew': 70,\n",
       " 'drew mixture': 82,\n",
       " 'mixture praise': 195,\n",
       " 'praise criticism': 243,\n",
       " 'criticism obama': 66,\n",
       " 'obama first': 217,\n",
       " 'first term': 111,\n",
       " 'term actions': 311,\n",
       " 'actions addressed': 3,\n",
       " 'addressed global': 5,\n",
       " 'global financial': 120,\n",
       " 'financial crisis': 106,\n",
       " 'crisis included': 64,\n",
       " 'included major': 151,\n",
       " 'major stimulus': 184,\n",
       " 'stimulus package': 299,\n",
       " 'package guide': 231,\n",
       " 'guide economy': 130,\n",
       " 'economy recovering': 84,\n",
       " 'recovering great': 263,\n",
       " 'great recession': 126,\n",
       " 'recession partial': 261,\n",
       " 'partial extension': 233,\n",
       " 'extension george': 102,\n",
       " 'george bush': 118,\n",
       " 'bush tax': 32,\n",
       " 'tax cuts': 307,\n",
       " 'cuts legislation': 68,\n",
       " 'legislation reform': 178,\n",
       " 'reform health': 266,\n",
       " 'health care': 135,\n",
       " 'care major': 36,\n",
       " 'major financial': 182,\n",
       " 'financial regulation': 107,\n",
       " 'regulation reform': 268,\n",
       " 'reform bill': 265,\n",
       " 'bill end': 23,\n",
       " 'end major': 96,\n",
       " 'major military': 183,\n",
       " 'military presence': 193,\n",
       " 'presence iraq': 245,\n",
       " 'appointed': 14,\n",
       " 'supreme': 304,\n",
       " 'court': 61,\n",
       " 'justices': 160,\n",
       " 'sonia': 292,\n",
       " 'sotomayor': 294,\n",
       " 'elena': 91,\n",
       " 'kagan': 162,\n",
       " 'former': 114,\n",
       " 'hispanic': 138,\n",
       " 'american': 12,\n",
       " 'obama also': 213,\n",
       " 'also appointed': 9,\n",
       " 'appointed supreme': 15,\n",
       " 'supreme court': 305,\n",
       " 'court justices': 62,\n",
       " 'justices sonia': 161,\n",
       " 'sonia sotomayor': 293,\n",
       " 'sotomayor elena': 295,\n",
       " 'elena kagan': 92,\n",
       " 'kagan former': 163,\n",
       " 'former first': 115,\n",
       " 'first hispanic': 110,\n",
       " 'hispanic american': 139,\n",
       " 'american supreme': 13,\n",
       " 'ordered': 221,\n",
       " 'counterterrorism': 59,\n",
       " 'raid': 256,\n",
       " 'killed': 164,\n",
       " 'osama': 226,\n",
       " 'bin': 24,\n",
       " 'laden': 166,\n",
       " 'downplayed': 79,\n",
       " 'counterinsurgency': 57,\n",
       " 'model': 196,\n",
       " 'expanding': 99,\n",
       " 'air': 6,\n",
       " 'strikes': 300,\n",
       " 'making': 185,\n",
       " 'extensive': 103,\n",
       " 'use': 318,\n",
       " 'special': 296,\n",
       " 'forces': 112,\n",
       " 'encouraging': 93,\n",
       " 'greater': 127,\n",
       " 'reliance': 269,\n",
       " 'host': 142,\n",
       " 'government': 121,\n",
       " 'militaries': 190,\n",
       " 'ordered counterterrorism': 222,\n",
       " 'counterterrorism raid': 60,\n",
       " 'raid killed': 257,\n",
       " 'killed osama': 165,\n",
       " 'osama bin': 227,\n",
       " 'bin laden': 25,\n",
       " 'laden downplayed': 167,\n",
       " 'downplayed bush': 80,\n",
       " 'bush counterinsurgency': 31,\n",
       " 'counterinsurgency model': 58,\n",
       " 'model expanding': 197,\n",
       " 'expanding air': 100,\n",
       " 'air strikes': 7,\n",
       " 'strikes making': 301,\n",
       " 'making extensive': 186,\n",
       " 'extensive use': 104,\n",
       " 'use special': 319,\n",
       " 'special forces': 297,\n",
       " 'forces encouraging': 113,\n",
       " 'encouraging greater': 94,\n",
       " 'greater reliance': 128,\n",
       " 'reliance host': 270,\n",
       " 'host government': 143,\n",
       " 'government militaries': 122,\n",
       " 'involvement': 152,\n",
       " 'libya': 179,\n",
       " 'order': 219,\n",
       " 'implement': 146,\n",
       " 'un': 314,\n",
       " 'security': 286,\n",
       " 'council': 55,\n",
       " 'resolution': 275,\n",
       " 'contributing': 53,\n",
       " 'overthrow': 228,\n",
       " 'muammar': 200,\n",
       " 'gaddafi': 116,\n",
       " 'also ordered': 10,\n",
       " 'ordered military': 223,\n",
       " 'military involvement': 192,\n",
       " 'involvement libya': 153,\n",
       " 'libya order': 180,\n",
       " 'order implement': 220,\n",
       " 'implement un': 147,\n",
       " 'un security': 315,\n",
       " 'security council': 287,\n",
       " 'council resolution': 56,\n",
       " 'resolution contributing': 276,\n",
       " 'contributing overthrow': 54,\n",
       " 'overthrow muammar': 229,\n",
       " 'muammar gaddafi': 201}"
      ]
     },
     "execution_count": 57,
     "metadata": {},
     "output_type": "execute_result"
    }
   ],
   "source": [
    "cv.vocabulary_"
   ]
  },
  {
   "cell_type": "code",
   "execution_count": 58,
   "metadata": {},
   "outputs": [
    {
     "data": {
      "text/plain": [
       "'obama born honolulu hawaii'"
      ]
     },
     "execution_count": 58,
     "metadata": {},
     "output_type": "execute_result"
    }
   ],
   "source": [
    "corpus[0]"
   ]
  },
  {
   "cell_type": "code",
   "execution_count": 59,
   "metadata": {},
   "outputs": [
    {
     "data": {
      "text/plain": [
       "array([[0, 0, 0, 0, 0, 0, 0, 0, 0, 0, 0, 0, 0, 0, 0, 0, 0, 0, 0, 0, 0, 0,\n",
       "        0, 0, 0, 0, 0, 0, 1, 1, 0, 0, 0, 0, 0, 0, 0, 0, 0, 0, 0, 0, 0, 0,\n",
       "        0, 0, 0, 0, 0, 0, 0, 0, 0, 0, 0, 0, 0, 0, 0, 0, 0, 0, 0, 0, 0, 0,\n",
       "        0, 0, 0, 0, 0, 0, 0, 0, 0, 0, 0, 0, 0, 0, 0, 0, 0, 0, 0, 0, 0, 0,\n",
       "        0, 0, 0, 0, 0, 0, 0, 0, 0, 0, 0, 0, 0, 0, 0, 0, 0, 0, 0, 0, 0, 0,\n",
       "        0, 0, 0, 0, 0, 0, 0, 0, 0, 0, 0, 0, 0, 0, 0, 0, 0, 0, 0, 0, 0, 0,\n",
       "        0, 1, 0, 0, 0, 0, 0, 0, 1, 1, 0, 0, 0, 0, 0, 0, 0, 0, 0, 0, 0, 0,\n",
       "        0, 0, 0, 0, 0, 0, 0, 0, 0, 0, 0, 0, 0, 0, 0, 0, 0, 0, 0, 0, 0, 0,\n",
       "        0, 0, 0, 0, 0, 0, 0, 0, 0, 0, 0, 0, 0, 0, 0, 0, 0, 0, 0, 0, 0, 0,\n",
       "        0, 0, 0, 0, 0, 0, 0, 0, 0, 0, 0, 0, 0, 0, 1, 0, 1, 0, 0, 0, 0, 0,\n",
       "        0, 0, 0, 0, 0, 0, 0, 0, 0, 0, 0, 0, 0, 0, 0, 0, 0, 0, 0, 0, 0, 0,\n",
       "        0, 0, 0, 0, 0, 0, 0, 0, 0, 0, 0, 0, 0, 0, 0, 0, 0, 0, 0, 0, 0, 0,\n",
       "        0, 0, 0, 0, 0, 0, 0, 0, 0, 0, 0, 0, 0, 0, 0, 0, 0, 0, 0, 0, 0, 0,\n",
       "        0, 0, 0, 0, 0, 0, 0, 0, 0, 0, 0, 0, 0, 0, 0, 0, 0, 0, 0, 0, 0, 0,\n",
       "        0, 0, 0, 0, 0, 0, 0, 0, 0, 0, 0, 0, 0, 0, 0, 0]], dtype=int64)"
      ]
     },
     "execution_count": 59,
     "metadata": {},
     "output_type": "execute_result"
    }
   ],
   "source": [
    "X[0].toarray()"
   ]
  },
  {
   "cell_type": "markdown",
   "metadata": {},
   "source": [
    "TFIDF"
   ]
  },
  {
   "cell_type": "code",
   "execution_count": 60,
   "metadata": {},
   "outputs": [],
   "source": [
    "from sklearn.feature_extraction.text import TfidfVectorizer\n",
    "cv=TfidfVectorizer(ngram_range=(3,3),max_features=10) #max features make sure unless and until that many parameters are not there it will not take that into consideration\n",
    "X=cv.fit_transform(corpus)"
   ]
  },
  {
   "cell_type": "code",
   "execution_count": 61,
   "metadata": {},
   "outputs": [
    {
     "data": {
      "text/plain": [
       "'obama born honolulu hawaii'"
      ]
     },
     "execution_count": 61,
     "metadata": {},
     "output_type": "execute_result"
    }
   ],
   "source": [
    "corpus[0]"
   ]
  },
  {
   "cell_type": "code",
   "execution_count": 62,
   "metadata": {},
   "outputs": [
    {
     "data": {
      "text/plain": [
       "array([[0., 0., 0., 0., 0., 1., 0., 0., 0., 0.]])"
      ]
     },
     "execution_count": 62,
     "metadata": {},
     "output_type": "execute_result"
    }
   ],
   "source": [
    "X[0].toarray()"
   ]
  },
  {
   "cell_type": "code",
   "execution_count": null,
   "metadata": {},
   "outputs": [],
   "source": []
  }
 ],
 "metadata": {
  "kernelspec": {
   "display_name": "Python 3",
   "language": "python",
   "name": "python3"
  },
  "language_info": {
   "codemirror_mode": {
    "name": "ipython",
    "version": 3
   },
   "file_extension": ".py",
   "mimetype": "text/x-python",
   "name": "python",
   "nbconvert_exporter": "python",
   "pygments_lexer": "ipython3",
   "version": "3.11.8"
  }
 },
 "nbformat": 4,
 "nbformat_minor": 2
}
